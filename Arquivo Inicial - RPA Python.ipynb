{
 "cells": [
  {
   "cell_type": "markdown",
   "metadata": {},
   "source": [
    "# RPA with Python\n",
    "\n"
   ]
  },
  {
   "cell_type": "markdown",
   "metadata": {},
   "source": [
    "## Exercise\n",
    "\n",
    "- We will make an automation of information extraction from a system ( which in this case is gmail only for practice purposes) and will send this information by e-mail\n",
    "    - Step 1: Enter in the system\n",
    "    - Step 2: Enter in a specific place that have this information which is a contacts list\n",
    "    - Step 3: Export this contacts list\n",
    "    - Step 4: Treat data from contacts list\n",
    "    - Step 5: Fill informations in the system - in this case is writing an email and send it.\n",
    "- The main goal of this project is to showcase undertand of pyautogui documentation and how a Robotic Process Automation can help in manual daily tasks."
   ]
  },
  {
   "cell_type": "code",
   "execution_count": 6,
   "metadata": {},
   "outputs": [],
   "source": [
    "import pyautogui as py\n",
    "import time\n",
    "\n",
    "py.alert('The Process Automation will start now. Please press OK and do not click in anything. Once is done we will inform.')\n",
    "# open new tab in chrome\n",
    "py.PAUSE = 1\n",
    "py.hotkey('ctrl','t')\n",
    "# enter in gmail\n",
    "py.write('gmail.com')\n",
    "py.press('enter')\n",
    "\n",
    "#wait for gmail loading\n",
    "while not py.locateOnScreen('logogm.png'):\n",
    "    time.sleep(1)\n",
    "    \n",
    "#enter in menu\n",
    "x, y, width, height = py.locateOnScreen('logomenu.png')\n",
    "py.click( x + width/2, y + height/2)\n",
    "time.sleep(1)\n",
    "#enter in contacts\n",
    "x, y, width, height = py.locateOnScreen('logocontatos.png')\n",
    "py.click( x + width/2, y + height/2)\n",
    "\n",
    "#wait for contacts\n",
    "while not py.locateOnScreen('contatospagina.png'):\n",
    "    time.sleep(1)\n",
    "    \n",
    "#export contacts\n",
    "x, y, width, height = py.locateOnScreen('exportar1.png')\n",
    "py.click( x + width/2, y + height/2)\n",
    "x, y, width, height = py.locateOnScreen('confirmarexportar.png')\n",
    "py.click( x + width/2, y + height/2)"
   ]
  },
  {
   "cell_type": "markdown",
   "metadata": {},
   "source": [
    "### Write E-mail"
   ]
  },
  {
   "cell_type": "code",
   "execution_count": 7,
   "metadata": {},
   "outputs": [
    {
     "data": {
      "text/html": [
       "<div>\n",
       "<style scoped>\n",
       "    .dataframe tbody tr th:only-of-type {\n",
       "        vertical-align: middle;\n",
       "    }\n",
       "\n",
       "    .dataframe tbody tr th {\n",
       "        vertical-align: top;\n",
       "    }\n",
       "\n",
       "    .dataframe thead th {\n",
       "        text-align: right;\n",
       "    }\n",
       "</style>\n",
       "<table border=\"1\" class=\"dataframe\">\n",
       "  <thead>\n",
       "    <tr style=\"text-align: right;\">\n",
       "      <th></th>\n",
       "      <th>Name</th>\n",
       "      <th>Given Name</th>\n",
       "      <th>Family Name</th>\n",
       "      <th>Group Membership</th>\n",
       "      <th>E-mail 1 - Type</th>\n",
       "      <th>E-mail 1 - Value</th>\n",
       "    </tr>\n",
       "  </thead>\n",
       "  <tbody>\n",
       "    <tr>\n",
       "      <th>0</th>\n",
       "      <td>Vinicius Coutinho</td>\n",
       "      <td>Vinicius</td>\n",
       "      <td>Coutinho</td>\n",
       "      <td>* myContacts</td>\n",
       "      <td>*</td>\n",
       "      <td>viniciuscoutinho_@hotmail.com</td>\n",
       "    </tr>\n",
       "  </tbody>\n",
       "</table>\n",
       "</div>"
      ],
      "text/plain": [
       "                Name Given Name Family Name Group Membership E-mail 1 - Type  \\\n",
       "0  Vinicius Coutinho   Vinicius    Coutinho     * myContacts              *    \n",
       "\n",
       "                E-mail 1 - Value  \n",
       "0  viniciuscoutinho_@hotmail.com  "
      ]
     },
     "metadata": {},
     "output_type": "display_data"
    },
    {
     "data": {
      "text/plain": [
       "'OK'"
      ]
     },
     "execution_count": 7,
     "metadata": {},
     "output_type": "execute_result"
    }
   ],
   "source": [
    "import pandas as pd\n",
    "df = pd.read_csv(r'C:\\Users\\vinicius_coutinho\\Downloads\\contacts.csv')\n",
    "df = df.dropna(axis=1)\n",
    "display(df)\n",
    "\n",
    "time.sleep(2)\n",
    "#going back to the original gmail page\n",
    "py.hotkey('ctrl','shift','tab')\n",
    "\n",
    "\n",
    "for email in df['E-mail 1 - Value']:\n",
    "    #clicking in compose button\n",
    "    time.sleep(1)\n",
    "    x, y, width, height = py.locateOnScreen('logoescrever.png')\n",
    "    py.click( x + width/2, y + height/2)\n",
    "    time.sleep(1)\n",
    "    #write email\n",
    "    py.write(email)\n",
    "    #enter\n",
    "    py.press('enter')\n",
    "    #inserting subject\n",
    "    py.press('tab')\n",
    "    py.write('Subject XYZ')\n",
    "    py.press('tab')\n",
    "    email_text = \"\"\"\n",
    "    Dear John,\n",
    "    \n",
    "    Please inform a date for the meeting.\n",
    "    \n",
    "    Best regards.\n",
    "    \"\"\"\n",
    "    py.write(email_text)\n",
    "    py.hotkey('ctrl','enter')\n",
    "\n",
    "py.alert('The process finished. You can proceed.')"
   ]
  }
 ],
 "metadata": {
  "kernelspec": {
   "display_name": "Python 3 (ipykernel)",
   "language": "python",
   "name": "python3"
  },
  "language_info": {
   "codemirror_mode": {
    "name": "ipython",
    "version": 3
   },
   "file_extension": ".py",
   "mimetype": "text/x-python",
   "name": "python",
   "nbconvert_exporter": "python",
   "pygments_lexer": "ipython3",
   "version": "3.9.18"
  }
 },
 "nbformat": 4,
 "nbformat_minor": 4
}
